{
 "cells": [
  {
   "cell_type": "code",
   "execution_count": 6,
   "id": "741ae4f6",
   "metadata": {},
   "outputs": [],
   "source": [
    "def main():\n",
    "    import csv\n",
    "    import random\n",
    "\n",
    "    n=1\n",
    "    \n",
    "    f = open('write.csv','w', newline='')\n",
    "    wr = csv.writer(f)\n",
    "    while(n<111101):\n",
    "        wr.writerow([n,random.randrange(1,7)])\n",
    "        n = n+1\n",
    "    f.close()\n",
    "\n",
    "    \n",
    "if __name__ == '__main__':\n",
    "    main()"
   ]
  },
  {
   "cell_type": "code",
   "execution_count": null,
   "id": "633f00b7",
   "metadata": {},
   "outputs": [],
   "source": []
  }
 ],
 "metadata": {
  "kernelspec": {
   "display_name": "Python 3 (ipykernel)",
   "language": "python",
   "name": "python3"
  },
  "language_info": {
   "codemirror_mode": {
    "name": "ipython",
    "version": 3
   },
   "file_extension": ".py",
   "mimetype": "text/x-python",
   "name": "python",
   "nbconvert_exporter": "python",
   "pygments_lexer": "ipython3",
   "version": "3.9.13"
  }
 },
 "nbformat": 4,
 "nbformat_minor": 5
}
